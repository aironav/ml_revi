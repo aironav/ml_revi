{
 "cells": [
  {
   "cell_type": "code",
   "execution_count": 1,
   "id": "3e68d779-f05d-417d-93e8-2a0a0fbf5682",
   "metadata": {},
   "outputs": [],
   "source": [
    "import pandas as pd\n",
    "import numpy as np"
   ]
  },
  {
   "cell_type": "code",
   "execution_count": 2,
   "id": "b820fb26-6640-49b1-aeb5-70a3e42d2d4d",
   "metadata": {},
   "outputs": [],
   "source": [
    "dt = pd.read_csv('melb_data.csv')"
   ]
  },
  {
   "cell_type": "code",
   "execution_count": 3,
   "id": "c2c471e4-6d58-47d4-819d-a902228a3bb2",
   "metadata": {},
   "outputs": [
    {
     "data": {
      "text/plain": [
       "Index(['Suburb', 'Address', 'Rooms', 'Type', 'Price', 'Method', 'SellerG',\n",
       "       'Date', 'Distance', 'Postcode', 'Bedroom2', 'Bathroom', 'Car',\n",
       "       'Landsize', 'BuildingArea', 'YearBuilt', 'CouncilArea', 'Lattitude',\n",
       "       'Longtitude', 'Regionname', 'Propertycount'],\n",
       "      dtype='object')"
      ]
     },
     "execution_count": 3,
     "metadata": {},
     "output_type": "execute_result"
    }
   ],
   "source": [
    "dt.columns"
   ]
  },
  {
   "cell_type": "code",
   "execution_count": 4,
   "id": "1caa3326-e728-4771-90ef-22b20402cb34",
   "metadata": {},
   "outputs": [
    {
     "name": "stdout",
     "output_type": "stream",
     "text": [
      "<class 'pandas.core.frame.DataFrame'>\n",
      "RangeIndex: 13580 entries, 0 to 13579\n",
      "Data columns (total 21 columns):\n",
      " #   Column         Non-Null Count  Dtype  \n",
      "---  ------         --------------  -----  \n",
      " 0   Suburb         13580 non-null  object \n",
      " 1   Address        13580 non-null  object \n",
      " 2   Rooms          13580 non-null  int64  \n",
      " 3   Type           13580 non-null  object \n",
      " 4   Price          13580 non-null  float64\n",
      " 5   Method         13580 non-null  object \n",
      " 6   SellerG        13580 non-null  object \n",
      " 7   Date           13580 non-null  object \n",
      " 8   Distance       13580 non-null  float64\n",
      " 9   Postcode       13580 non-null  float64\n",
      " 10  Bedroom2       13580 non-null  float64\n",
      " 11  Bathroom       13580 non-null  float64\n",
      " 12  Car            13518 non-null  float64\n",
      " 13  Landsize       13580 non-null  float64\n",
      " 14  BuildingArea   7130 non-null   float64\n",
      " 15  YearBuilt      8205 non-null   float64\n",
      " 16  CouncilArea    12211 non-null  object \n",
      " 17  Lattitude      13580 non-null  float64\n",
      " 18  Longtitude     13580 non-null  float64\n",
      " 19  Regionname     13580 non-null  object \n",
      " 20  Propertycount  13580 non-null  float64\n",
      "dtypes: float64(12), int64(1), object(8)\n",
      "memory usage: 2.2+ MB\n"
     ]
    }
   ],
   "source": [
    "dt.info()"
   ]
  },
  {
   "cell_type": "code",
   "execution_count": 5,
   "id": "7489a57b-8a71-446d-8935-a3d6b3d49684",
   "metadata": {},
   "outputs": [
    {
     "data": {
      "text/plain": [
       "Suburb             314\n",
       "Address          13378\n",
       "Rooms                9\n",
       "Type                 3\n",
       "Price             2204\n",
       "Method               5\n",
       "SellerG            268\n",
       "Date                58\n",
       "Distance           202\n",
       "Postcode           198\n",
       "Bedroom2            12\n",
       "Bathroom             9\n",
       "Car                 11\n",
       "Landsize          1448\n",
       "BuildingArea       602\n",
       "YearBuilt          144\n",
       "CouncilArea         33\n",
       "Lattitude         6503\n",
       "Longtitude        7063\n",
       "Regionname           8\n",
       "Propertycount      311\n",
       "dtype: int64"
      ]
     },
     "execution_count": 5,
     "metadata": {},
     "output_type": "execute_result"
    }
   ],
   "source": [
    "dt.nunique()"
   ]
  },
  {
   "cell_type": "code",
   "execution_count": 6,
   "id": "a4f25ebc-f1b2-4106-a7e0-b0e6ca457315",
   "metadata": {},
   "outputs": [],
   "source": [
    "dt = dt.dropna(axis=0)"
   ]
  },
  {
   "cell_type": "code",
   "execution_count": 7,
   "id": "e049905b-ecd6-40c5-9e87-16a0ad9ce36d",
   "metadata": {},
   "outputs": [],
   "source": [
    "from sklearn.preprocessing import LabelEncoder"
   ]
  },
  {
   "cell_type": "code",
   "execution_count": 8,
   "id": "67b7710e-3c3d-4a17-8ef3-4620604446c9",
   "metadata": {},
   "outputs": [],
   "source": [
    "label = LabelEncoder()"
   ]
  },
  {
   "cell_type": "code",
   "execution_count": 9,
   "id": "dc322bc5-e5e0-41b3-9669-76f681ef074e",
   "metadata": {},
   "outputs": [],
   "source": [
    "dt['Regionname'] = label.fit_transform(dt['Regionname'])"
   ]
  },
  {
   "cell_type": "code",
   "execution_count": 10,
   "id": "e059de95-9d44-4dc4-a494-adaab68d16f3",
   "metadata": {},
   "outputs": [],
   "source": [
    "y = dt['Price']                               # y = dt.Price"
   ]
  },
  {
   "cell_type": "code",
   "execution_count": 11,
   "id": "2a29aec2-626e-4b92-a6ac-5c4ba27fddf3",
   "metadata": {},
   "outputs": [],
   "source": [
    "features = ['Lattitude', 'Longtitude', 'Rooms', 'Bathroom', 'Landsize', 'Bedroom2', 'YearBuilt', 'BuildingArea', 'Regionname']"
   ]
  },
  {
   "cell_type": "code",
   "execution_count": 12,
   "id": "1c4c1203-8fcb-4749-873a-8f00bbd6fc37",
   "metadata": {},
   "outputs": [],
   "source": [
    "x = dt[features]"
   ]
  },
  {
   "cell_type": "code",
   "execution_count": 13,
   "id": "1d61110f-ecad-4355-bf56-57a5da39cb91",
   "metadata": {},
   "outputs": [
    {
     "data": {
      "text/html": [
       "<div>\n",
       "<style scoped>\n",
       "    .dataframe tbody tr th:only-of-type {\n",
       "        vertical-align: middle;\n",
       "    }\n",
       "\n",
       "    .dataframe tbody tr th {\n",
       "        vertical-align: top;\n",
       "    }\n",
       "\n",
       "    .dataframe thead th {\n",
       "        text-align: right;\n",
       "    }\n",
       "</style>\n",
       "<table border=\"1\" class=\"dataframe\">\n",
       "  <thead>\n",
       "    <tr style=\"text-align: right;\">\n",
       "      <th></th>\n",
       "      <th>Lattitude</th>\n",
       "      <th>Longtitude</th>\n",
       "      <th>Rooms</th>\n",
       "      <th>Bathroom</th>\n",
       "      <th>Landsize</th>\n",
       "      <th>Bedroom2</th>\n",
       "      <th>YearBuilt</th>\n",
       "      <th>BuildingArea</th>\n",
       "      <th>Regionname</th>\n",
       "    </tr>\n",
       "  </thead>\n",
       "  <tbody>\n",
       "    <tr>\n",
       "      <th>1</th>\n",
       "      <td>-37.80790</td>\n",
       "      <td>144.99340</td>\n",
       "      <td>2</td>\n",
       "      <td>1.0</td>\n",
       "      <td>156.0</td>\n",
       "      <td>2.0</td>\n",
       "      <td>1900.0</td>\n",
       "      <td>79.00</td>\n",
       "      <td>2</td>\n",
       "    </tr>\n",
       "    <tr>\n",
       "      <th>2</th>\n",
       "      <td>-37.80930</td>\n",
       "      <td>144.99440</td>\n",
       "      <td>3</td>\n",
       "      <td>2.0</td>\n",
       "      <td>134.0</td>\n",
       "      <td>3.0</td>\n",
       "      <td>1900.0</td>\n",
       "      <td>150.00</td>\n",
       "      <td>2</td>\n",
       "    </tr>\n",
       "    <tr>\n",
       "      <th>4</th>\n",
       "      <td>-37.80720</td>\n",
       "      <td>144.99410</td>\n",
       "      <td>4</td>\n",
       "      <td>1.0</td>\n",
       "      <td>120.0</td>\n",
       "      <td>3.0</td>\n",
       "      <td>2014.0</td>\n",
       "      <td>142.00</td>\n",
       "      <td>2</td>\n",
       "    </tr>\n",
       "    <tr>\n",
       "      <th>6</th>\n",
       "      <td>-37.80240</td>\n",
       "      <td>144.99930</td>\n",
       "      <td>3</td>\n",
       "      <td>2.0</td>\n",
       "      <td>245.0</td>\n",
       "      <td>4.0</td>\n",
       "      <td>1910.0</td>\n",
       "      <td>210.00</td>\n",
       "      <td>2</td>\n",
       "    </tr>\n",
       "    <tr>\n",
       "      <th>7</th>\n",
       "      <td>-37.80600</td>\n",
       "      <td>144.99540</td>\n",
       "      <td>2</td>\n",
       "      <td>1.0</td>\n",
       "      <td>256.0</td>\n",
       "      <td>2.0</td>\n",
       "      <td>1890.0</td>\n",
       "      <td>107.00</td>\n",
       "      <td>2</td>\n",
       "    </tr>\n",
       "    <tr>\n",
       "      <th>...</th>\n",
       "      <td>...</td>\n",
       "      <td>...</td>\n",
       "      <td>...</td>\n",
       "      <td>...</td>\n",
       "      <td>...</td>\n",
       "      <td>...</td>\n",
       "      <td>...</td>\n",
       "      <td>...</td>\n",
       "      <td>...</td>\n",
       "    </tr>\n",
       "    <tr>\n",
       "      <th>12205</th>\n",
       "      <td>-37.51232</td>\n",
       "      <td>145.13282</td>\n",
       "      <td>3</td>\n",
       "      <td>2.0</td>\n",
       "      <td>972.0</td>\n",
       "      <td>3.0</td>\n",
       "      <td>1996.0</td>\n",
       "      <td>149.00</td>\n",
       "      <td>3</td>\n",
       "    </tr>\n",
       "    <tr>\n",
       "      <th>12206</th>\n",
       "      <td>-37.86558</td>\n",
       "      <td>144.90474</td>\n",
       "      <td>3</td>\n",
       "      <td>1.0</td>\n",
       "      <td>179.0</td>\n",
       "      <td>3.0</td>\n",
       "      <td>1890.0</td>\n",
       "      <td>115.00</td>\n",
       "      <td>6</td>\n",
       "    </tr>\n",
       "    <tr>\n",
       "      <th>12207</th>\n",
       "      <td>-37.85588</td>\n",
       "      <td>144.89936</td>\n",
       "      <td>1</td>\n",
       "      <td>1.0</td>\n",
       "      <td>0.0</td>\n",
       "      <td>1.0</td>\n",
       "      <td>1967.0</td>\n",
       "      <td>35.64</td>\n",
       "      <td>6</td>\n",
       "    </tr>\n",
       "    <tr>\n",
       "      <th>12209</th>\n",
       "      <td>-37.85581</td>\n",
       "      <td>144.99025</td>\n",
       "      <td>2</td>\n",
       "      <td>1.0</td>\n",
       "      <td>0.0</td>\n",
       "      <td>2.0</td>\n",
       "      <td>2012.0</td>\n",
       "      <td>61.60</td>\n",
       "      <td>5</td>\n",
       "    </tr>\n",
       "    <tr>\n",
       "      <th>12212</th>\n",
       "      <td>-37.81038</td>\n",
       "      <td>144.89389</td>\n",
       "      <td>6</td>\n",
       "      <td>3.0</td>\n",
       "      <td>1087.0</td>\n",
       "      <td>6.0</td>\n",
       "      <td>1920.0</td>\n",
       "      <td>388.50</td>\n",
       "      <td>6</td>\n",
       "    </tr>\n",
       "  </tbody>\n",
       "</table>\n",
       "<p>6196 rows × 9 columns</p>\n",
       "</div>"
      ],
      "text/plain": [
       "       Lattitude  Longtitude  Rooms  Bathroom  Landsize  Bedroom2  YearBuilt  \\\n",
       "1      -37.80790   144.99340      2       1.0     156.0       2.0     1900.0   \n",
       "2      -37.80930   144.99440      3       2.0     134.0       3.0     1900.0   \n",
       "4      -37.80720   144.99410      4       1.0     120.0       3.0     2014.0   \n",
       "6      -37.80240   144.99930      3       2.0     245.0       4.0     1910.0   \n",
       "7      -37.80600   144.99540      2       1.0     256.0       2.0     1890.0   \n",
       "...          ...         ...    ...       ...       ...       ...        ...   \n",
       "12205  -37.51232   145.13282      3       2.0     972.0       3.0     1996.0   \n",
       "12206  -37.86558   144.90474      3       1.0     179.0       3.0     1890.0   \n",
       "12207  -37.85588   144.89936      1       1.0       0.0       1.0     1967.0   \n",
       "12209  -37.85581   144.99025      2       1.0       0.0       2.0     2012.0   \n",
       "12212  -37.81038   144.89389      6       3.0    1087.0       6.0     1920.0   \n",
       "\n",
       "       BuildingArea  Regionname  \n",
       "1             79.00           2  \n",
       "2            150.00           2  \n",
       "4            142.00           2  \n",
       "6            210.00           2  \n",
       "7            107.00           2  \n",
       "...             ...         ...  \n",
       "12205        149.00           3  \n",
       "12206        115.00           6  \n",
       "12207         35.64           6  \n",
       "12209         61.60           5  \n",
       "12212        388.50           6  \n",
       "\n",
       "[6196 rows x 9 columns]"
      ]
     },
     "execution_count": 13,
     "metadata": {},
     "output_type": "execute_result"
    }
   ],
   "source": [
    "x"
   ]
  },
  {
   "cell_type": "code",
   "execution_count": 14,
   "id": "9e387367-a42b-422a-a2bf-6f1bfb9dae45",
   "metadata": {},
   "outputs": [],
   "source": [
    "from sklearn.tree import DecisionTreeRegressor"
   ]
  },
  {
   "cell_type": "code",
   "execution_count": 15,
   "id": "f244d13e-73a5-409f-9106-c6e804d33321",
   "metadata": {},
   "outputs": [
    {
     "data": {
      "text/plain": [
       "DecisionTreeRegressor()"
      ]
     },
     "execution_count": 15,
     "metadata": {},
     "output_type": "execute_result"
    }
   ],
   "source": [
    "data = DecisionTreeRegressor()\n",
    "data.fit(x,y)"
   ]
  },
  {
   "cell_type": "code",
   "execution_count": 16,
   "id": "5aa66660-d368-4f64-a826-e7421d451432",
   "metadata": {},
   "outputs": [
    {
     "name": "stdout",
     "output_type": "stream",
     "text": [
      "Making predictions for the following 5 houses:\n",
      "   Lattitude  Longtitude  Rooms  Bathroom  Landsize  Bedroom2  YearBuilt  \\\n",
      "1   -37.8079    144.9934      2       1.0     156.0       2.0     1900.0   \n",
      "2   -37.8093    144.9944      3       2.0     134.0       3.0     1900.0   \n",
      "4   -37.8072    144.9941      4       1.0     120.0       3.0     2014.0   \n",
      "6   -37.8024    144.9993      3       2.0     245.0       4.0     1910.0   \n",
      "7   -37.8060    144.9954      2       1.0     256.0       2.0     1890.0   \n",
      "\n",
      "   BuildingArea  Regionname  \n",
      "1          79.0           2  \n",
      "2         150.0           2  \n",
      "4         142.0           2  \n",
      "6         210.0           2  \n",
      "7         107.0           2  \n",
      "The predictions are\n",
      "[1035000. 1465000. 1600000. 1876000. 1636000.]\n"
     ]
    }
   ],
   "source": [
    "print(\"Making predictions for the following 5 houses:\")\n",
    "print(x.head())\n",
    "print(\"The predictions are\")\n",
    "print(data.predict(x.head()))"
   ]
  },
  {
   "cell_type": "markdown",
   "id": "210014b3-992b-446c-bc4d-9e2f0f58d8fd",
   "metadata": {},
   "source": [
    "## validation of the model"
   ]
  },
  {
   "cell_type": "code",
   "execution_count": 17,
   "id": "a98a3810-6b7d-44e4-95fa-62b95183290a",
   "metadata": {},
   "outputs": [],
   "source": [
    "from sklearn.metrics import mean_absolute_error"
   ]
  },
  {
   "cell_type": "code",
   "execution_count": 18,
   "id": "278db075-4524-41fb-b019-120b7ca4ad97",
   "metadata": {},
   "outputs": [],
   "source": [
    "predicted_price = data.predict(x)"
   ]
  },
  {
   "cell_type": "code",
   "execution_count": 19,
   "id": "7a480c77-9730-45c5-bc26-0ce66afc41e6",
   "metadata": {},
   "outputs": [
    {
     "data": {
      "text/plain": [
       "434.0703679793415"
      ]
     },
     "execution_count": 19,
     "metadata": {},
     "output_type": "execute_result"
    }
   ],
   "source": [
    "mean_absolute_error(y, predicted_price)"
   ]
  },
  {
   "cell_type": "code",
   "execution_count": 20,
   "id": "23e728a9-2fbd-4a5e-bfb2-75d16d757e93",
   "metadata": {},
   "outputs": [],
   "source": [
    "from sklearn.model_selection import train_test_split"
   ]
  },
  {
   "cell_type": "code",
   "execution_count": 21,
   "id": "c1d0a209-a550-4a3d-9d63-4fec649b5763",
   "metadata": {},
   "outputs": [],
   "source": [
    "xtrain, xtest, ytrain, ytest = train_test_split(x,y, test_size= .02)"
   ]
  },
  {
   "cell_type": "code",
   "execution_count": 22,
   "id": "03d16f75-df86-4aaf-a1fd-7ed62672ad97",
   "metadata": {},
   "outputs": [
    {
     "name": "stdout",
     "output_type": "stream",
     "text": [
      "(6072, 9)\n",
      "(124, 9)\n",
      "(6072,)\n",
      "(124,)\n"
     ]
    }
   ],
   "source": [
    "print(xtrain.shape)\n",
    "print(xtest.shape)\n",
    "print(ytrain.shape)\n",
    "print(ytest.shape)"
   ]
  },
  {
   "cell_type": "code",
   "execution_count": 23,
   "id": "b5aa2d24-db98-458a-b845-34efc5474582",
   "metadata": {},
   "outputs": [],
   "source": [
    "data_2 = DecisionTreeRegressor(criterion= 'squared_error', splitter= 'best', max_depth= 20)"
   ]
  },
  {
   "cell_type": "code",
   "execution_count": 24,
   "id": "c217e0ea-ce71-4b6c-bf26-5b953834c375",
   "metadata": {},
   "outputs": [
    {
     "data": {
      "text/plain": [
       "DecisionTreeRegressor(max_depth=20)"
      ]
     },
     "execution_count": 24,
     "metadata": {},
     "output_type": "execute_result"
    }
   ],
   "source": [
    "data_2.fit(xtrain, ytrain)"
   ]
  },
  {
   "cell_type": "code",
   "execution_count": 25,
   "id": "b2b93916-5d7e-43bc-8abd-f1f736c425c3",
   "metadata": {},
   "outputs": [
    {
     "data": {
      "text/plain": [
       "85.43827012855351"
      ]
     },
     "execution_count": 25,
     "metadata": {},
     "output_type": "execute_result"
    }
   ],
   "source": [
    "data_2.score(xtest, ytest) * 100"
   ]
  },
  {
   "cell_type": "code",
   "execution_count": 26,
   "id": "80edf3aa-c429-4165-870a-36e7f23c17c6",
   "metadata": {},
   "outputs": [],
   "source": [
    "from sklearn.ensemble import RandomForestRegressor"
   ]
  },
  {
   "cell_type": "code",
   "execution_count": 27,
   "id": "e602df92-6279-47e9-86ed-117b091bffd3",
   "metadata": {},
   "outputs": [],
   "source": [
    "rdregr = RandomForestRegressor()"
   ]
  },
  {
   "cell_type": "code",
   "execution_count": 28,
   "id": "37cab2d3-466d-4ce4-b551-7ed43c26c8ff",
   "metadata": {},
   "outputs": [
    {
     "data": {
      "text/plain": [
       "RandomForestRegressor()"
      ]
     },
     "execution_count": 28,
     "metadata": {},
     "output_type": "execute_result"
    }
   ],
   "source": [
    "rdregr.fit(xtrain, ytrain)"
   ]
  },
  {
   "cell_type": "code",
   "execution_count": 29,
   "id": "354a962d-0404-462d-b2f8-abd24bdc1cf4",
   "metadata": {},
   "outputs": [
    {
     "data": {
      "text/plain": [
       "97.13530066617052"
      ]
     },
     "execution_count": 29,
     "metadata": {},
     "output_type": "execute_result"
    }
   ],
   "source": [
    "rdregr.score(xtrain, ytrain) * 100"
   ]
  },
  {
   "cell_type": "code",
   "execution_count": 30,
   "id": "d783d1d7-71fa-408c-8447-6d8a88e3b6dd",
   "metadata": {},
   "outputs": [],
   "source": [
    "rdtr_predictions = rdregr.predict(xtest)"
   ]
  },
  {
   "cell_type": "code",
   "execution_count": 31,
   "id": "dad6883c-f6cb-4a72-9ef5-1af1a45134d0",
   "metadata": {},
   "outputs": [
    {
     "data": {
      "text/plain": [
       "225562.97118279568"
      ]
     },
     "execution_count": 31,
     "metadata": {},
     "output_type": "execute_result"
    }
   ],
   "source": [
    "mean_absolute_error(ytest, rdtr_predictions)"
   ]
  },
  {
   "cell_type": "code",
   "execution_count": 32,
   "id": "9d05e51d-ca57-405a-9c6e-8d07475ad383",
   "metadata": {},
   "outputs": [
    {
     "data": {
      "text/plain": [
       "81.02311434368674"
      ]
     },
     "execution_count": 32,
     "metadata": {},
     "output_type": "execute_result"
    }
   ],
   "source": [
    "rdregr.score(xtest, ytest) * 100"
   ]
  },
  {
   "cell_type": "code",
   "execution_count": null,
   "id": "889c628a-8c02-4bca-8572-6ee2be97290f",
   "metadata": {},
   "outputs": [],
   "source": []
  }
 ],
 "metadata": {
  "kernelspec": {
   "display_name": "Python 3 (ipykernel)",
   "language": "python",
   "name": "python3"
  },
  "language_info": {
   "codemirror_mode": {
    "name": "ipython",
    "version": 3
   },
   "file_extension": ".py",
   "mimetype": "text/x-python",
   "name": "python",
   "nbconvert_exporter": "python",
   "pygments_lexer": "ipython3",
   "version": "3.8.12"
  }
 },
 "nbformat": 4,
 "nbformat_minor": 5
}
